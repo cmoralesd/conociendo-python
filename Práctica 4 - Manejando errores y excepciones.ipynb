{
 "cells": [
  {
   "cell_type": "markdown",
   "id": "91d4297d",
   "metadata": {},
   "source": [
    "# Práctica 4 - Corrigiendo errores y manejando excepciones en Python 3\n",
    "Autor: Claudio Morales D.<br>\n",
    "https://github.com/cmoralesd/conociendo-python <br>\n",
    "Otoño 2023<br>\n",
    "<br>\n",
    "Para profundizar en conceptos y otros aspectos de programación con Python, recomiendo consultar el curso en línea de la Escuela de Ingenierías Industriales de la Universidad de Valencia, \"Fundamentos de Programación en Python\", disponible en este enlace: https://www2.eii.uva.es/fund_inf/python/index.html y el tutorial oficial de Python sobre el tema, disponible en https://docs.python.org/es/3/tutorial/errors.html\n",
    "\n"
   ]
  },
  {
   "cell_type": "markdown",
   "id": "c09146b2",
   "metadata": {},
   "source": [
    "## 1. Errores sintácticos: fáciles de identificar y corregir"
   ]
  },
  {
   "cell_type": "code",
   "execution_count": 1,
   "id": "d7c5be74",
   "metadata": {},
   "outputs": [
    {
     "ename": "IndentationError",
     "evalue": "unexpected indent (2552505560.py, line 4)",
     "output_type": "error",
     "traceback": [
      "\u001b[1;36m  Cell \u001b[1;32mIn[1], line 4\u001b[1;36m\u001b[0m\n\u001b[1;33m    print(f'La tabla de multiplicar para {n} es:')\u001b[0m\n\u001b[1;37m    ^\u001b[0m\n\u001b[1;31mIndentationError\u001b[0m\u001b[1;31m:\u001b[0m unexpected indent\n"
     ]
    }
   ],
   "source": [
    "# IndentationError -- No se han respetado los niveles de indentación\n",
    "\n",
    "n = 3\n",
    " print(f'La tabla de multiplicar para {n} es:')\n",
    " print('----------------------------------')\n",
    "for i in range(1,11):\n",
    "print(f'{n} x {i} = {n*i}')\n"
   ]
  },
  {
   "cell_type": "code",
   "execution_count": 2,
   "id": "e8b9531e",
   "metadata": {},
   "outputs": [
    {
     "ename": "SyntaxError",
     "evalue": "unterminated string literal (detected at line 4) (3731562710.py, line 4)",
     "output_type": "error",
     "traceback": [
      "\u001b[1;36m  Cell \u001b[1;32mIn[2], line 4\u001b[1;36m\u001b[0m\n\u001b[1;33m    print(f'La tabla de multiplicar para {n} es:)\u001b[0m\n\u001b[1;37m          ^\u001b[0m\n\u001b[1;31mSyntaxError\u001b[0m\u001b[1;31m:\u001b[0m unterminated string literal (detected at line 4)\n"
     ]
    }
   ],
   "source": [
    "# SyntaxError -- La sintaxis no es válida, hay algo mal escrito...\n",
    "\n",
    "n = 3\n",
    "print(f'La tabla de multiplicar para {n} es:)\n",
    "print('----------------------------------')\n",
    "for i in range(1,11)\n",
    "    print(f'{n} x {i} = {n*i}'))\n"
   ]
  },
  {
   "cell_type": "markdown",
   "id": "85c448a0",
   "metadata": {},
   "source": [
    "## 2. Errores en tiempo de ejecución (excepciones, se pueden manejar)"
   ]
  },
  {
   "cell_type": "code",
   "execution_count": 3,
   "id": "9fa72837",
   "metadata": {},
   "outputs": [
    {
     "ename": "NameError",
     "evalue": "name 'variable' is not defined",
     "output_type": "error",
     "traceback": [
      "\u001b[1;31m---------------------------------------------------------------------------\u001b[0m",
      "\u001b[1;31mNameError\u001b[0m                                 Traceback (most recent call last)",
      "Cell \u001b[1;32mIn[3], line 3\u001b[0m\n\u001b[0;32m      1\u001b[0m \u001b[39m# NameError -- Se intenta utilizar una variable, función o módulo que no ha sido definida previamente.\u001b[39;00m\n\u001b[1;32m----> 3\u001b[0m \u001b[39mprint\u001b[39m(variable)\n",
      "\u001b[1;31mNameError\u001b[0m: name 'variable' is not defined"
     ]
    }
   ],
   "source": [
    "# NameError -- Se intenta utilizar una variable, función o módulo que no ha sido definida previamente.\n",
    "\n",
    "print(variable)"
   ]
  },
  {
   "cell_type": "code",
   "execution_count": 4,
   "id": "b9916d3e",
   "metadata": {},
   "outputs": [
    {
     "ename": "TypeError",
     "evalue": "unsupported operand type(s) for +: 'int' and 'str'",
     "output_type": "error",
     "traceback": [
      "\u001b[1;31m---------------------------------------------------------------------------\u001b[0m",
      "\u001b[1;31mTypeError\u001b[0m                                 Traceback (most recent call last)",
      "Cell \u001b[1;32mIn[4], line 5\u001b[0m\n\u001b[0;32m      3\u001b[0m a \u001b[39m=\u001b[39m \u001b[39m2\u001b[39m\n\u001b[0;32m      4\u001b[0m b \u001b[39m=\u001b[39m \u001b[39m'\u001b[39m\u001b[39m2\u001b[39m\u001b[39m'\u001b[39m\n\u001b[1;32m----> 5\u001b[0m \u001b[39mprint\u001b[39m(a \u001b[39m+\u001b[39;49m b)\n",
      "\u001b[1;31mTypeError\u001b[0m: unsupported operand type(s) for +: 'int' and 'str'"
     ]
    }
   ],
   "source": [
    "# TypeError -- El tipo de datos no corresponde con la instrucción que se busca realizar\n",
    "\n",
    "a = 2\n",
    "b = '2'\n",
    "print(a + b)"
   ]
  },
  {
   "cell_type": "code",
   "execution_count": 5,
   "id": "ce80d615",
   "metadata": {},
   "outputs": [
    {
     "name": "stdout",
     "output_type": "stream",
     "text": [
      "el valor calculado es 1.4142135623730951\n"
     ]
    },
    {
     "ename": "TypeError",
     "evalue": "round() missing required argument 'number' (pos 1)",
     "output_type": "error",
     "traceback": [
      "\u001b[1;31m---------------------------------------------------------------------------\u001b[0m",
      "\u001b[1;31mTypeError\u001b[0m                                 Traceback (most recent call last)",
      "Cell \u001b[1;32mIn[5], line 5\u001b[0m\n\u001b[0;32m      3\u001b[0m val \u001b[39m=\u001b[39m \u001b[39m2\u001b[39m\u001b[39m*\u001b[39m\u001b[39m*\u001b[39m(\u001b[39m1\u001b[39m\u001b[39m/\u001b[39m\u001b[39m2\u001b[39m)\n\u001b[0;32m      4\u001b[0m \u001b[39mprint\u001b[39m(\u001b[39mf\u001b[39m\u001b[39m'\u001b[39m\u001b[39mel valor calculado es \u001b[39m\u001b[39m{\u001b[39;00mval\u001b[39m}\u001b[39;00m\u001b[39m'\u001b[39m)\n\u001b[1;32m----> 5\u001b[0m \u001b[39mprint\u001b[39m(\u001b[39mf\u001b[39m\u001b[39m'\u001b[39m\u001b[39mel valor aproximado es \u001b[39m\u001b[39m{\u001b[39;00m\u001b[39mround\u001b[39m()\u001b[39m}\u001b[39;00m\u001b[39m'\u001b[39m)\n",
      "\u001b[1;31mTypeError\u001b[0m: round() missing required argument 'number' (pos 1)"
     ]
    }
   ],
   "source": [
    "# TypeError -- Faltan datos para el llamado a una función \n",
    "\n",
    "val = 2**(1/2)\n",
    "print(f'el valor calculado es {val}')\n",
    "print(f'el valor aproximado es {round()}')"
   ]
  },
  {
   "cell_type": "code",
   "execution_count": 6,
   "id": "0822e0a7",
   "metadata": {},
   "outputs": [
    {
     "name": "stderr",
     "output_type": "stream",
     "text": [
      "<>:4: SyntaxWarning: 'int' object is not callable; perhaps you missed a comma?\n",
      "<>:4: SyntaxWarning: 'int' object is not callable; perhaps you missed a comma?\n",
      "C:\\Users\\Nicol\\AppData\\Local\\Temp\\ipykernel_3732\\2545043006.py:4: SyntaxWarning: 'int' object is not callable; perhaps you missed a comma?\n",
      "  area = 2(PI)*radio\n",
      "C:\\Users\\Nicol\\AppData\\Local\\Temp\\ipykernel_3732\\2545043006.py:4: SyntaxWarning: 'int' object is not callable; perhaps you missed a comma?\n",
      "  area = 2(PI)*radio\n",
      "C:\\Users\\Nicol\\AppData\\Local\\Temp\\ipykernel_3732\\2545043006.py:4: SyntaxWarning: 'int' object is not callable; perhaps you missed a comma?\n",
      "  area = 2(PI)*radio\n"
     ]
    },
    {
     "ename": "TypeError",
     "evalue": "'int' object is not callable",
     "output_type": "error",
     "traceback": [
      "\u001b[1;31m---------------------------------------------------------------------------\u001b[0m",
      "\u001b[1;31mTypeError\u001b[0m                                 Traceback (most recent call last)",
      "Cell \u001b[1;32mIn[6], line 4\u001b[0m\n\u001b[0;32m      1\u001b[0m \u001b[39m# TypeError -- Paréntesis () se interpretan como llamado a función (call)\u001b[39;00m\n\u001b[0;32m      3\u001b[0m radio, PI \u001b[39m=\u001b[39m \u001b[39m1.5\u001b[39m, \u001b[39m3.14159\u001b[39m\n\u001b[1;32m----> 4\u001b[0m area \u001b[39m=\u001b[39m \u001b[39m2\u001b[39;49m(PI)\u001b[39m*\u001b[39mradio\n\u001b[0;32m      5\u001b[0m \u001b[39mprint\u001b[39m(area)\n",
      "\u001b[1;31mTypeError\u001b[0m: 'int' object is not callable"
     ]
    }
   ],
   "source": [
    "# TypeError -- Paréntesis () se interpretan como llamado a función (call)\n",
    "\n",
    "radio, PI = 1.5, 3.14159\n",
    "area = 2(PI)*radio\n",
    "print(area)\n"
   ]
  },
  {
   "cell_type": "code",
   "execution_count": 7,
   "id": "7690ecfd",
   "metadata": {},
   "outputs": [
    {
     "ename": "NameError",
     "evalue": "name 'value' is not defined",
     "output_type": "error",
     "traceback": [
      "\u001b[1;31m---------------------------------------------------------------------------\u001b[0m",
      "\u001b[1;31mNameError\u001b[0m                                 Traceback (most recent call last)",
      "Cell \u001b[1;32mIn[7], line 5\u001b[0m\n\u001b[0;32m      3\u001b[0m x \u001b[39m=\u001b[39m [\u001b[39m'\u001b[39m\u001b[39m2\u001b[39m\u001b[39m'\u001b[39m, \u001b[39m'\u001b[39m\u001b[39m3\u001b[39m\u001b[39m'\u001b[39m, \u001b[39m'\u001b[39m\u001b[39m4\u001b[39m\u001b[39m'\u001b[39m, \u001b[39m'\u001b[39m\u001b[39m-1\u001b[39m\u001b[39m'\u001b[39m, \u001b[39m'\u001b[39m\u001b[39m3.5\u001b[39m\u001b[39m'\u001b[39m, \u001b[39m'\u001b[39m\u001b[39m5\u001b[39m\u001b[39m'\u001b[39m]\n\u001b[0;32m      4\u001b[0m \u001b[39mfor\u001b[39;00m num \u001b[39min\u001b[39;00m x:\n\u001b[1;32m----> 5\u001b[0m     \u001b[39mprint\u001b[39m(\u001b[39mint\u001b[39m(value))\n",
      "\u001b[1;31mNameError\u001b[0m: name 'value' is not defined"
     ]
    }
   ],
   "source": [
    "# ValueError -- Una función se intenta ejecutar con un valor no permitido\n",
    "\n",
    "x = ['2', '3', '4', '-1', '3.5', '5']\n",
    "for num in x:\n",
    "    print(int(value))"
   ]
  },
  {
   "cell_type": "code",
   "execution_count": 8,
   "id": "253fec04",
   "metadata": {},
   "outputs": [
    {
     "ename": "ValueError",
     "evalue": "not enough values to unpack (expected 3, got 2)",
     "output_type": "error",
     "traceback": [
      "\u001b[1;31m---------------------------------------------------------------------------\u001b[0m",
      "\u001b[1;31mValueError\u001b[0m                                Traceback (most recent call last)",
      "Cell \u001b[1;32mIn[8], line 3\u001b[0m\n\u001b[0;32m      1\u001b[0m \u001b[39m# ValueError -- No coinciden los datos para ejecutar una asignación\u001b[39;00m\n\u001b[1;32m----> 3\u001b[0m a, b, c \u001b[39m=\u001b[39m \u001b[39m1\u001b[39m, \u001b[39m2\u001b[39m\n",
      "\u001b[1;31mValueError\u001b[0m: not enough values to unpack (expected 3, got 2)"
     ]
    }
   ],
   "source": [
    "# ValueError -- No coinciden los datos para ejecutar una asignación\n",
    "\n",
    "a, b, c = 1, 2"
   ]
  },
  {
   "cell_type": "code",
   "execution_count": 9,
   "id": "1c58f9e4",
   "metadata": {},
   "outputs": [
    {
     "name": "stdout",
     "output_type": "stream",
     "text": [
      "0 lun\n",
      "1 mar\n",
      "2 mie\n",
      "3 jue\n",
      "4 vie\n",
      "5 sab\n",
      "6 dom\n"
     ]
    },
    {
     "ename": "IndexError",
     "evalue": "list index out of range",
     "output_type": "error",
     "traceback": [
      "\u001b[1;31m---------------------------------------------------------------------------\u001b[0m",
      "\u001b[1;31mIndexError\u001b[0m                                Traceback (most recent call last)",
      "Cell \u001b[1;32mIn[9], line 6\u001b[0m\n\u001b[0;32m      4\u001b[0m semana \u001b[39m=\u001b[39m [\u001b[39m'\u001b[39m\u001b[39mlun\u001b[39m\u001b[39m'\u001b[39m, \u001b[39m'\u001b[39m\u001b[39mmar\u001b[39m\u001b[39m'\u001b[39m, \u001b[39m'\u001b[39m\u001b[39mmie\u001b[39m\u001b[39m'\u001b[39m, \u001b[39m'\u001b[39m\u001b[39mjue\u001b[39m\u001b[39m'\u001b[39m, \u001b[39m'\u001b[39m\u001b[39mvie\u001b[39m\u001b[39m'\u001b[39m, \u001b[39m'\u001b[39m\u001b[39msab\u001b[39m\u001b[39m'\u001b[39m, \u001b[39m'\u001b[39m\u001b[39mdom\u001b[39m\u001b[39m'\u001b[39m]\n\u001b[0;32m      5\u001b[0m \u001b[39mwhile\u001b[39;00m (i \u001b[39m<\u001b[39m\u001b[39m=\u001b[39m \u001b[39m7\u001b[39m):\n\u001b[1;32m----> 6\u001b[0m     \u001b[39mprint\u001b[39m(i, semana[i])\n\u001b[0;32m      7\u001b[0m     i \u001b[39m+\u001b[39m\u001b[39m=\u001b[39m \u001b[39m1\u001b[39m\n",
      "\u001b[1;31mIndexError\u001b[0m: list index out of range"
     ]
    }
   ],
   "source": [
    "# IndexError -- En una lista, tupla o set, se busca acceder a un elemento que no existe \n",
    "\n",
    "i = 0\n",
    "semana = ['lun', 'mar', 'mie', 'jue', 'vie', 'sab', 'dom']\n",
    "while (i <= 7):\n",
    "    print(i, semana[i])\n",
    "    i += 1"
   ]
  },
  {
   "cell_type": "code",
   "execution_count": 10,
   "id": "4def9153",
   "metadata": {},
   "outputs": [
    {
     "ename": "KeyError",
     "evalue": "0.82",
     "output_type": "error",
     "traceback": [
      "\u001b[1;31m---------------------------------------------------------------------------\u001b[0m",
      "\u001b[1;31mKeyError\u001b[0m                                  Traceback (most recent call last)",
      "Cell \u001b[1;32mIn[10], line 6\u001b[0m\n\u001b[0;32m      3\u001b[0m flujo, presion, estado \u001b[39m=\u001b[39m \u001b[39m0.82\u001b[39m, \u001b[39m23.5\u001b[39m, \u001b[39mTrue\u001b[39;00m\n\u001b[0;32m      4\u001b[0m param \u001b[39m=\u001b[39m {\u001b[39m'\u001b[39m\u001b[39mflujo\u001b[39m\u001b[39m'\u001b[39m: \u001b[39m0.82\u001b[39m, \u001b[39m'\u001b[39m\u001b[39mpresion\u001b[39m\u001b[39m'\u001b[39m: \u001b[39m23.5\u001b[39m, \u001b[39m'\u001b[39m\u001b[39mestado\u001b[39m\u001b[39m'\u001b[39m: \u001b[39mTrue\u001b[39;00m}\n\u001b[1;32m----> 6\u001b[0m \u001b[39mprint\u001b[39m(param[flujo])\n",
      "\u001b[1;31mKeyError\u001b[0m: 0.82"
     ]
    }
   ],
   "source": [
    "# KeyError -- En un diccionario, se busca una clave que no existe\n",
    "\n",
    "flujo, presion, estado = 0.82, 23.5, True\n",
    "param = {'flujo': 0.82, 'presion': 23.5, 'estado': True}\n",
    "\n",
    "print(param[flujo])"
   ]
  },
  {
   "cell_type": "code",
   "execution_count": 11,
   "id": "5068c3a3",
   "metadata": {},
   "outputs": [
    {
     "name": "stdout",
     "output_type": "stream",
     "text": [
      "el promedio calculado es 4.24\n"
     ]
    }
   ],
   "source": [
    "# Los errores en tiempo de ejecución generan excepciones. Estas excepciones pueden manejarse \n",
    "# mediante una estructura 'try ... except' para evitar interrupciones en la ejecución del código.\n",
    "\n",
    "# Este código de ejemplo busca calcular el promedio de una lista de números de tipo float o int.\n",
    "\n",
    "# obtenemos los datos de entrada\n",
    "datos = [3.2, 4.5, 1.7, 6.5, 5.3]\n",
    "n = len(datos)\n",
    "suma = 0\n",
    "\n",
    "# sumamos todos los elementos\n",
    "for val in datos:\n",
    "    suma += val\n",
    "# y dividimos por el número de elementos\n",
    "promedio = suma / n\n",
    "print(f'el promedio calculado es {promedio}')\n",
    "    "
   ]
  },
  {
   "cell_type": "code",
   "execution_count": null,
   "id": "504d8566",
   "metadata": {},
   "outputs": [],
   "source": []
  },
  {
   "cell_type": "markdown",
   "id": "362fe890",
   "metadata": {},
   "source": [
    "## 3. Errores semánticos (los más difíciles de identificar)"
   ]
  },
  {
   "cell_type": "code",
   "execution_count": 12,
   "id": "228a49c5",
   "metadata": {},
   "outputs": [
    {
     "name": "stdout",
     "output_type": "stream",
     "text": [
      "-9\n"
     ]
    }
   ],
   "source": [
    "# Error por falta de reconocer las prioridades en expresiones matemáticas\n",
    "\n",
    "# Calculando -3 al cuadrado\n",
    "y = -3**2\n",
    "print(y)"
   ]
  },
  {
   "cell_type": "code",
   "execution_count": 13,
   "id": "2cc24b3f",
   "metadata": {},
   "outputs": [
    {
     "name": "stdout",
     "output_type": "stream",
     "text": [
      "3.2526911934581184\n"
     ]
    }
   ],
   "source": [
    "# Error por descuido al escribir las variables\n",
    "cateto1 = 2.3\n",
    "cateto2 = 4.1\n",
    "hipotenusa = (cateto1**2 + cateto1**2)**(1/2)\n",
    "print(hipotenusa)"
   ]
  },
  {
   "cell_type": "code",
   "execution_count": 14,
   "id": "b89154a7",
   "metadata": {},
   "outputs": [
    {
     "name": "stdout",
     "output_type": "stream",
     "text": [
      "hacemos algo si el número es mayor que 2\n"
     ]
    }
   ],
   "source": [
    "# Error por incorrecta definición de las condiciones de selección\n",
    "\n",
    "x = 3.2\n",
    "if x > 2:\n",
    "    print('hacemos algo si el número es mayor que 2')\n",
    "elif x > 3:\n",
    "    print('hacemos otra cosa si el número es mayor que 3')\n",
    "else:\n",
    "    print('no hacemos nada, no se cumplen las condiciones')\n",
    "    "
   ]
  },
  {
   "cell_type": "code",
   "execution_count": 15,
   "id": "6f8d23d1",
   "metadata": {},
   "outputs": [
    {
     "name": "stdout",
     "output_type": "stream",
     "text": [
      "[2]\n",
      "[]\n",
      "[2]\n",
      "[3]\n",
      "[2, 6]\n",
      "[3]\n",
      "[2, 6]\n",
      "[3, 7]\n",
      "[2, 6]\n",
      "[3, 7, 45]\n",
      "[2, 6]\n",
      "[3, 7, 45, 23]\n",
      "[2, 6, 764]\n",
      "[3, 7, 45, 23]\n",
      "[2, 6, 764]\n",
      "[3, 7, 45, 23, 33]\n",
      "[2, 6, 764]\n",
      "[3, 7, 45, 23, 33, 121]\n",
      "[2, 6, 764]\n",
      "[3, 7, 45, 23, 33, 121, 5]\n",
      "[2, 6, 764]\n",
      "[3, 7, 45, 23, 33, 121, 5, 87]\n",
      "[2, 6, 764, 80]\n",
      "[3, 7, 45, 23, 33, 121, 5, 87]\n"
     ]
    }
   ],
   "source": [
    "# Error por una incorrecta indentación\n",
    "\n",
    "# Ordenando los números de una lista en pares e impares\n",
    "numeros = [2, 3, 6, 7, 45, 23, 764, 33, 121, 5, 87, 80]\n",
    "pares = []\n",
    "impares = []\n",
    "\n",
    "for num in numeros:\n",
    "    if num % 2 == 0:\n",
    "        pares.append(num)\n",
    "    else:\n",
    "        impares.append(num)\n",
    "    print(pares)\n",
    "    print(impares)\n",
    "\n"
   ]
  },
  {
   "cell_type": "markdown",
   "id": "5eb6db99",
   "metadata": {},
   "source": [
    "## ACTIVIDAD:\n",
    "Se ha escrito un código para leer una variable de texto y realizar varias operaciones:\n",
    "1. Contar el número total de caracteres y mostrar la información en pantalla.\n",
    "2. Contar el número total de palabras y mostrar la información en pantalla.\n",
    "3. Contar la cantidad de caracteres distintos y mostrar la información en pantalla.\n",
    "\n",
    "Sin embargo, el código fue escrito en forma muy desprolija y está lleno de errores.\n",
    "Edite el código, corrigiendo los errores, para que muestre la información en forma correcta.\n",
    "\n",
    "**NOTA:** No es necesario hacer cambios en la lógica del programa, sino únicamente corregir los errores semánticos y errores en tiempo de ejecución, asegurando que no haya errores semánticos que entreguen resultados incorrectos.\n",
    "\n",
    "Las primeras lineas del mensaje final desplegado en consola debieran ser:\n",
    "```\n",
    "El número de caracteres en el texto es: 259\n",
    "El número de palabras en el texto es: 37\n",
    "el caracter P aparece 2 veces\n",
    "el caracter y aparece 3 veces\n",
    "el caracter t aparece 13 veces\n",
    "...\n",
    "```"
   ]
  },
  {
   "cell_type": "code",
   "execution_count": 4,
   "id": "424f4757",
   "metadata": {},
   "outputs": [
    {
     "name": "stdout",
     "output_type": "stream",
     "text": [
      "El número de caracteres en el texto es: 259\n",
      "El número de palabras en el texto es: 37\n",
      "el caracter P aparece 2 veces\n",
      "el caracter y aparece 3 veces\n",
      "el caracter t aparece 13 veces\n",
      "el caracter h aparece 3 veces\n",
      "el caracter o aparece 16 veces\n",
      "el caracter n aparece 13 veces\n",
      "el caracter   aparece 36 veces\n",
      "el caracter e aparece 24 veces\n",
      "el caracter s aparece 9 veces\n",
      "el caracter u aparece 6 veces\n",
      "el caracter l aparece 13 veces\n",
      "el caracter g aparece 5 veces\n",
      "el caracter a aparece 23 veces\n",
      "el caracter j aparece 2 veces\n",
      "el caracter d aparece 12 veces\n",
      "el caracter i aparece 20 veces\n",
      "el caracter v aparece 1 veces\n",
      "el caracter p aparece 9 veces\n",
      "el caracter r aparece 11 veces\n",
      "el caracter m aparece 3 veces\n",
      "el caracter c aparece 7 veces\n",
      "el caracter ó aparece 2 veces\n",
      "el caracter f aparece 4 veces\n",
      "el caracter í aparece 1 veces\n",
      "el caracter é aparece 1 veces\n",
      "el caracter b aparece 1 veces\n",
      "el caracter , aparece 6 veces\n",
      "el caracter z aparece 1 veces\n",
      "el caracter : aparece 2 veces\n",
      "el caracter I aparece 1 veces\n",
      "el caracter N aparece 1 veces\n",
      "el caracter x aparece 1 veces\n",
      "el caracter S aparece 1 veces\n",
      "el caracter 3 aparece 1 veces\n",
      "el caracter D aparece 1 veces\n",
      "el caracter . aparece 1 veces\n",
      "el caracter F aparece 1 veces\n",
      "el caracter W aparece 1 veces\n",
      "el caracter k aparece 1 veces\n"
     ]
    }
   ],
   "source": [
    "# La variable 'texto' contiene la información la cadena de caracteres que debe ser analizada.\n",
    "texto = \"Python es un lenguaje de alto nivel de programación interpretado cuya filosofía hace hincapié en la legibilidad de su código, se utiliza para desarrollar aplicaciones de todo tipo, ejemplos: Instagram, Netflix, Spotify, Panda3D, entre otros. Fuente: Wikipedia\"\n",
    "# Contar caracteres. Se lee directamente la longitud de la variable str, utilizando len()\n",
    "n_caracteres = len(texto)\n",
    "print(f'El número de caracteres en el texto es: {n_caracteres}')\n",
    "\n",
    "# 2. Contar palabras. Se obtiene una lista de elementos separados por espacios. El número total de elementos de la lista corresponde al número de palabras\n",
    "n_palabras = len(texto.split(' '))\n",
    "print(f'El número de palabras en el texto es: {n_palabras}')\n",
    "\n",
    "# 3. Identificamos caracteres distintos y los almacenamos en un diccionario.\n",
    "caracteres = {}\n",
    "for caracter in texto:\n",
    "    if caracter not in caracteres:\n",
    "        # Si es primera vez que aparece un caracter, lo agregamos al diccionario\n",
    "        caracteres[caracter] = 1\n",
    "    else:\n",
    "        # Si el caracter ya está en el diccionario, aumentamos el conteo\n",
    "        caracteres[caracter] += 1\n",
    "\n",
    "# Finalmente desplegamos en pantalla el conteo de caracteres\n",
    "for key in caracteres.keys():\n",
    "    print(f'el caracter {key} aparece {caracteres[key]} veces')\n"
   ]
  },
  {
   "cell_type": "code",
   "execution_count": null,
   "id": "9b40a4a8",
   "metadata": {},
   "outputs": [],
   "source": []
  }
 ],
 "metadata": {
  "kernelspec": {
   "display_name": "Python 3 (ipykernel)",
   "language": "python",
   "name": "python3"
  },
  "language_info": {
   "codemirror_mode": {
    "name": "ipython",
    "version": 3
   },
   "file_extension": ".py",
   "mimetype": "text/x-python",
   "name": "python",
   "nbconvert_exporter": "python",
   "pygments_lexer": "ipython3",
   "version": "3.10.9"
  }
 },
 "nbformat": 4,
 "nbformat_minor": 5
}
