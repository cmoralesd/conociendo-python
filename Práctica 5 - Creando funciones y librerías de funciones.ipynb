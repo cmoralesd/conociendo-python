{
 "cells": [
  {
   "cell_type": "markdown",
   "id": "91d4297d",
   "metadata": {},
   "source": [
    "# Práctica 5 - Funciones y librerías de funciones (módulos) en Python\n",
    "Autor: Claudio Morales D.<br>\n",
    "https://github.com/cmoralesd/conociendo-python <br>\n",
    "Otoño 2023<br>\n",
    "<br>\n",
    "Para profundizar en conceptos y otros aspectos de programación con Python, recomiendo consultar el curso en línea de la Escuela de Ingenierías Industriales de la Universidad de Valencia, \"Fundamentos de Programación en Python\", disponible en este enlace: https://www2.eii.uva.es/fund_inf/python/index.html\n",
    "\n",
    "Los archivos de datos en formato **csv** se obtienen desde: https://climatologia.meteochile.gob.cl/application/index/menuTematicoEmas\n",
    "\n"
   ]
  },
  {
   "cell_type": "markdown",
   "id": "c09146b2",
   "metadata": {},
   "source": [
    "## 1. Construyendo funciones mediante 'def'"
   ]
  },
  {
   "cell_type": "code",
   "execution_count": null,
   "id": "3a5fcae7",
   "metadata": {},
   "outputs": [],
   "source": [
    "# un archivo de texto se puede leer fácilmente utilizando la instrucción 'with' junto a 'open()'\n",
    "nombre_archivo = '330075_202303_Temperatura.csv'\n",
    "try:\n",
    "    with open(nombre_archivo) as archivo:\n",
    "        print(f'El archivo fue leido correctamente: {nombre_archivo}')\n",
    "        for linea in archivo:\n",
    "            print(linea)\n",
    "except:\n",
    "    print(f'ERROR: no se pudo abrir el archivo: {nombre_archivo}')"
   ]
  },
  {
   "cell_type": "code",
   "execution_count": 3,
   "id": "8c23ec8e",
   "metadata": {},
   "outputs": [],
   "source": [
    "def leer_archivo(nombre_archivo):\n",
    "    # nombre_archivo: un archivo csv obtenido desde https://climatologia.meteochile.gob.cl/application/index/menuTematicoEmas\n",
    "    # retorna: el contenido del archivo como una lista, cuyos elementos son las\n",
    "    #          líneas del archivo original, sin el caracter final '\\n'\n",
    "\n",
    "    contenido = []\n",
    "    try:\n",
    "     with open(nombre_archivo) as archivo:\n",
    "        print(f'El archivo fue leido correctamente: {nombre_archivo}')\n",
    "        for linea in archivo:\n",
    "           contenido.append(linea[:-1])\n",
    "           \n",
    "    except:\n",
    "        print(f'ERROR: no se pudo abrir el archivo: {nombre_archivo}')\n",
    "    return contenido"
   ]
  },
  {
   "cell_type": "code",
   "execution_count": null,
   "id": "18c85179",
   "metadata": {},
   "outputs": [],
   "source": [
    "mis_datos = leer_archivo('330075_202303_Temperatura.csv')\n",
    "mis_datos"
   ]
  },
  {
   "cell_type": "code",
   "execution_count": null,
   "id": "dc26f542",
   "metadata": {},
   "outputs": [],
   "source": [
    "mis_datos[0].split(';')"
   ]
  },
  {
   "cell_type": "code",
   "execution_count": 6,
   "id": "0120783a",
   "metadata": {},
   "outputs": [],
   "source": [
    "def datos_registrados(datos):\n",
    "    # datos: una lista con datos leidos desde el archivo csv\n",
    "    # retorna: una lista con todos los nombres encontrados en la fila de cabecera\n",
    "    datos_encontrados = datos[0].split(';')\n",
    "    return datos_encontrados\n",
    "        "
   ]
  },
  {
   "cell_type": "code",
   "execution_count": null,
   "id": "c3357e5d",
   "metadata": {},
   "outputs": [],
   "source": [
    "cabecera = datos_registrados(mis_datos)\n",
    "cabecera"
   ]
  },
  {
   "cell_type": "code",
   "execution_count": null,
   "id": "63ee5aa6",
   "metadata": {},
   "outputs": [],
   "source": [
    "datos_registrados(mis_datos)"
   ]
  },
  {
   "cell_type": "code",
   "execution_count": 9,
   "id": "f22c5722",
   "metadata": {},
   "outputs": [],
   "source": [
    "def filtrar_cabecera(datos, filtro):\n",
    "    # datos: la lista con los datos leidos desde el archivo csv\n",
    "    # filtro: una variable 'str' con el nombre de cabecera que se desea filtrar\n",
    "    # retorna: una lista con todas las filas de 'datos', pero conteniendo únicamente los datos bajo el nombre 'filtro'.\n",
    "    #          Los datos que representan números están en formato numérico correspondiente (int o float)\n",
    "    index = datos_registrados(datos).index(filtro)\n",
    "    datos_filtrados = []\n",
    "    for filas in datos:\n",
    "        valor = filas.split(';')[index]\n",
    "        if valor.isnumeric():\n",
    "            valor = int(valor)\n",
    "        else:\n",
    "            try:\n",
    "                valor = float(valor)\n",
    "            except:\n",
    "                pass\n",
    "        datos_filtrados.append(valor)\n",
    "    return datos_filtrados\n"
   ]
  },
  {
   "cell_type": "code",
   "execution_count": null,
   "id": "5d63ff82",
   "metadata": {},
   "outputs": [],
   "source": [
    "ts = filtrar_cabecera(mis_datos, 'ts')\n",
    "ts"
   ]
  },
  {
   "cell_type": "markdown",
   "id": "289afbdd",
   "metadata": {},
   "source": [
    "## Algo más sobre las listas"
   ]
  },
  {
   "cell_type": "code",
   "execution_count": 3,
   "id": "1c0de35b",
   "metadata": {},
   "outputs": [
    {
     "data": {
      "text/plain": [
       "[10, 20, 30, 40]"
      ]
     },
     "execution_count": 3,
     "metadata": {},
     "output_type": "execute_result"
    }
   ],
   "source": [
    "# usando el operador ':' en los índices de elementos\n",
    "lista_1 = [10, 20, 30, 40, 50]\n",
    "lista_1[:-1]\n"
   ]
  },
  {
   "cell_type": "code",
   "execution_count": 6,
   "id": "c5f85b11",
   "metadata": {},
   "outputs": [
    {
     "data": {
      "text/plain": [
       "[60, 20, 30, 40, 50]"
      ]
     },
     "execution_count": 6,
     "metadata": {},
     "output_type": "execute_result"
    }
   ],
   "source": [
    "# precaución al hacer copias de listas, recordar que son elementos mutables\n",
    "lista_1 = [10, 20, 30, 40, 50]\n",
    "lista_2 = lista_1.copy()\n",
    "lista_2[0] = 60\n",
    "lista_2"
   ]
  },
  {
   "cell_type": "code",
   "execution_count": 7,
   "id": "fa28a10f",
   "metadata": {},
   "outputs": [
    {
     "data": {
      "text/plain": [
       "[10, 20, 30, 40, 50]"
      ]
     },
     "execution_count": 7,
     "metadata": {},
     "output_type": "execute_result"
    }
   ],
   "source": [
    "lista_1"
   ]
  },
  {
   "cell_type": "code",
   "execution_count": 10,
   "id": "2d660878",
   "metadata": {},
   "outputs": [
    {
     "name": "stdout",
     "output_type": "stream",
     "text": [
      "[20, 30, 40, 50] 10\n"
     ]
    }
   ],
   "source": [
    "# quitar elementos de una lista por su índice, usando .pop()\n",
    "lista_1 = [10, 20, 30, 40, 50]\n",
    "eleminado = lista_1.pop(0)\n",
    "print(lista_1, eleminado)"
   ]
  },
  {
   "cell_type": "code",
   "execution_count": 11,
   "id": "066af6db",
   "metadata": {},
   "outputs": [
    {
     "data": {
      "text/plain": [
       "[10, 20, 40, 50]"
      ]
     },
     "execution_count": 11,
     "metadata": {},
     "output_type": "execute_result"
    }
   ],
   "source": [
    "# eliminar elementos de una lista por su valor, usando .remove()\n",
    "lista_1 = [10, 20, 30, 40, 50]\n",
    "lista_1.remove(30)\n",
    "lista_1"
   ]
  },
  {
   "cell_type": "code",
   "execution_count": 13,
   "id": "9572159e",
   "metadata": {},
   "outputs": [
    {
     "data": {
      "text/plain": [
       "[60, 10, 20, 30, 40, 50]"
      ]
     },
     "execution_count": 13,
     "metadata": {},
     "output_type": "execute_result"
    }
   ],
   "source": [
    "# agregar un elemento en una posición específica de una lista, usando .insert()\n",
    "lista_1 = [10, 20, 30, 40, 50]\n",
    "lista_1.insert(0, 60)\n",
    "lista_1\n"
   ]
  },
  {
   "cell_type": "code",
   "execution_count": 28,
   "id": "c00ab860",
   "metadata": {},
   "outputs": [
    {
     "name": "stdout",
     "output_type": "stream",
     "text": [
      "10 50\n"
     ]
    }
   ],
   "source": [
    "# calculando máximos y mínimos de una lista de números, con max() y min()\n",
    "lista_1 = [10, 20, 30, 40, 50]\n",
    "print(min(lista_1), max(lista_1))\n"
   ]
  },
  {
   "cell_type": "code",
   "execution_count": 17,
   "id": "834d8e4e",
   "metadata": {},
   "outputs": [
    {
     "data": {
      "text/plain": [
       "150"
      ]
     },
     "execution_count": 17,
     "metadata": {},
     "output_type": "execute_result"
    }
   ],
   "source": [
    "# sumando los elementos de una lista, con sum()\n",
    "lista_1 = [10, 20, 30, 40, 50]\n",
    "sum(lista_1)"
   ]
  },
  {
   "cell_type": "code",
   "execution_count": 18,
   "id": "95f0f2a2",
   "metadata": {},
   "outputs": [
    {
     "data": {
      "text/plain": [
       "False"
      ]
     },
     "execution_count": 18,
     "metadata": {},
     "output_type": "execute_result"
    }
   ],
   "source": [
    "# saber si un elemento está contenido en una lista con 'in'\n",
    "lista_1 = [10, 20, 30, 40, 50]\n",
    "35 in lista_1\n"
   ]
  },
  {
   "cell_type": "markdown",
   "id": "0d6eb7c8",
   "metadata": {},
   "source": [
    "## 2. Creando y utilizando una librería de funciones\n",
    "\n",
    "Una **líbrería** o **módulo** de Python es típicamente un archivo de texto con extensión .py (la misma extensión de los script de python). \n",
    "\n",
    "Como cualquier archivo de python, debe comenzar con un encabezado que permita al sistema operativo reconocer que este archivo debe ser tratado en un entorno de python e indicar el tipo de codificación utilizado.\n",
    "\n",
    "A continuación, debe existir una documentación que indique la utilidad de la librería y otros datos relevantes para su utilización y mantenimiento y luego todo el código que conforma el módulo."
   ]
  },
  {
   "cell_type": "code",
   "execution_count": 9,
   "id": "92098bf8",
   "metadata": {},
   "outputs": [],
   "source": [
    "#! /usr/bin/env-python\n",
    "# -*- coding: utf-8 -*-\n",
    "\n",
    "# meteodatos - librería para la consulta de datos meteorológicos obtenidos desde\n",
    "# las bases de datos disponibles en https://climatologia.meteochile.gob.cl/application/index/menuTematicoEmas\n",
    "# versión: 0.1\n",
    "# fecha: abril de 2023\n",
    "# github: cmoralesd/aprendiendo-python\n",
    "\n",
    "# el código sigue aquí...\n"
   ]
  },
  {
   "cell_type": "code",
   "execution_count": 11,
   "id": "a9665577",
   "metadata": {},
   "outputs": [],
   "source": [
    "# para importar el módulo en un script, se utiliza 'import'\n",
    "import meteodatos as mtd\n"
   ]
  },
  {
   "cell_type": "code",
   "execution_count": null,
   "id": "eafb6dd0",
   "metadata": {},
   "outputs": [],
   "source": [
    "mtd.leer_archivo('330075_202303_Temperatura.csv')"
   ]
  },
  {
   "cell_type": "code",
   "execution_count": 13,
   "id": "7f8cc44f",
   "metadata": {},
   "outputs": [],
   "source": [
    "def filtrar_dia(datos, dia):\n",
    "    # datos: una lista cuyas filas contienen los datos agrupados como una cadena de texto\n",
    "    # dia:   el día que se desea filtrar, en formato 'AAAA-MM-DD', ejemplo: '2023-03-01'\n",
    "    # retorna: la misma lista 'datos', pero conteniendo únicamente las filas\n",
    "    #          que coinciden con 'dia' y manteniendo la cabecera\n",
    "    \n",
    "    # TODO: Escriba su código aquí:\n",
    "    # ---------------------------------------------\n",
    "    datos_f = []\n",
    "    datos_f.append(datos[0])\n",
    "    for fila in datos[1:]:\n",
    "        if dia in fila:\n",
    "            datos_f.append(fila)\n",
    "    return datos_f\n",
    "    # ---------------------------------------------\n",
    "    # Su código termina aquí, luego se retornan los datos calculado\n",
    "    # reemplace la lista vacía [] por el resultado de su código\n"
   ]
  },
  {
   "cell_type": "code",
   "execution_count": 14,
   "id": "d4129e2f",
   "metadata": {},
   "outputs": [
    {
     "data": {
      "text/plain": [
       "['codigoNacional;idEquipo;idPista;momento;ts;td;tMin12Horas;tMax12Horas;tMin24Horas;tMax24Horas;horaTMin12Horas;horaTMax12Horas;horaTMin24Horas;horaTMax24Horas;ts02;ts10;ts30;momentoRegistro;tsMed15m;tsMax15m;tsMin15m;tsSupMax15m;tsSupMed15m;tsSupMin15m;tMin1M;tMax1M',\n",
       " '330075;0;;2023-03-01 00:00:00;23.9;7.4;;;;;;;;;;;;2023-03-01 00:20:14;;24.6;23.9;;;;;',\n",
       " '330075;0;;2023-03-01 00:20:00;22.5;6.1;;;;;;;;;;;;2023-03-01 01:45:01;;24.1;22.2;;;;;',\n",
       " '330075;0;;2023-03-01 00:40:00;21.1;5.8;;;;;;;;;;;;2023-03-01 01:45:01;;22.6;20.9;;;;;',\n",
       " '330075;0;;2023-03-01 01:00:00;20.5;5.3;;;;;;;;;;;;2023-03-01 01:45:01;;21.6;20.5;;;;;',\n",
       " '330075;0;;2023-03-01 01:20:00;19.9;5.2;;;;;;;;;;;;2023-03-01 02:35:14;;20.7;19.8;;;;;',\n",
       " '330075;0;;2023-03-01 01:40:00;19.3;5.1;;;;;;;;;;;;2023-03-01 02:35:14;;20.0;19.2;;;;;',\n",
       " '330075;0;;2023-03-01 02:00:00;19.4;5.1;;;;;;;;;;;;2023-03-01 02:35:14;;20.0;19.2;;;;;',\n",
       " '330075;0;;2023-03-01 02:20:00;18.6;4.9;;;;;;;;;;;;2023-03-01 03:20:15;;19.7;18.6;;;;;',\n",
       " '330075;0;;2023-03-01 02:40:00;18.2;4.9;;;;;;;;;;;;2023-03-01 03:20:15;;18.8;18.1;;;;;',\n",
       " '330075;0;;2023-03-01 03:00:00;17.9;4.9;;;;;;;;;;;;2023-03-01 03:20:15;;18.4;17.7;;;;;',\n",
       " '330075;0;;2023-03-01 03:20:00;17.6;4.6;;;;;;;;;;;;2023-03-01 04:20:14;;18.3;17.6;;;;;',\n",
       " '330075;0;;2023-03-01 03:40:00;17.4;4.8;;;;;;;;;;;;2023-03-01 04:20:14;;17.8;17.1;;;;;',\n",
       " '330075;0;;2023-03-01 04:00:00;17.1;4.6;;;;;;;;;;;;2023-03-01 04:20:14;;17.4;16.9;;;;;',\n",
       " '330075;0;;2023-03-01 04:20:00;16.8;4.4;;;;;;;;;;;;2023-03-01 05:45:02;;17.2;16.7;;;;;',\n",
       " '330075;0;;2023-03-01 04:40:00;16.8;4.1;;;;;;;;;;;;2023-03-01 05:45:02;;17.2;16.6;;;;;',\n",
       " '330075;0;;2023-03-01 05:00:00;16.4;3.9;;;;;;;;;;;;2023-03-01 05:45:02;;17.0;16.4;;;;;',\n",
       " '330075;0;;2023-03-01 05:20:00;16.1;3.9;;;;;;;;;;;;2023-03-01 06:20:15;;16.7;16.0;;;;;',\n",
       " '330075;0;;2023-03-01 05:40:00;15.7;3.7;;;;;;;;;;;;2023-03-01 06:20:15;;16.2;15.4;;;;;',\n",
       " '330075;0;;2023-03-01 06:00:00;15.4;3.2;;;;;;;;;;;;2023-03-01 06:20:15;;15.6;15.2;;;;;',\n",
       " '330075;0;;2023-03-01 06:20:00;15.6;2.9;;;;;;;;;;;;2023-03-01 07:20:16;;15.9;15.3;;;;;',\n",
       " '330075;0;;2023-03-01 06:40:00;15.1;3.1;;;;;;;;;;;;2023-03-01 07:20:16;;15.9;14.9;;;;;',\n",
       " '330075;0;;2023-03-01 07:00:00;15.4;3.1;;;;;;;;;;;;2023-03-01 07:20:16;;15.7;14.8;;;;;',\n",
       " '330075;0;;2023-03-01 07:20:00;15.3;3.1;;;;;;;;;;;;2023-03-01 08:45:03;;16.1;15.2;;;;;',\n",
       " '330075;0;;2023-03-01 07:40:00;15.1;2.9;;;;;;;;;;;;2023-03-01 08:45:03;;15.4;14.9;;;;;',\n",
       " '330075;0;;2023-03-01 08:00:00;14.8;2.9;;;;;;;;;;;;2023-03-01 08:45:03;;15.3;14.8;;;;;',\n",
       " '330075;0;;2023-03-01 08:20:00;15.1;2.8;;;;;;;;;;;;2023-03-01 09:20:15;;15.2;14.8;;;;;',\n",
       " '330075;0;;2023-03-01 08:40:00;14.9;2.6;;;;;;;;;;;;2023-03-01 09:20:15;;15.1;14.6;;;;;',\n",
       " '330075;0;;2023-03-01 09:00:00;15.1;2.6;;;;;;;;;;;;2023-03-01 09:20:15;;15.1;14.7;;;;;',\n",
       " '330075;0;;2023-03-01 09:20:00;15.1;2.2;;;;;;;;;;;;2023-03-01 10:20:20;;15.3;14.9;;;;;',\n",
       " '330075;0;;2023-03-01 09:40:00;15.7;2.0;;;;;;;;;;;;2023-03-01 10:20:20;;15.8;15.0;;;;;',\n",
       " '330075;0;;2023-03-01 10:00:00;15.6;2.0;;;;;;;;;;;;2023-03-01 10:20:20;;15.9;15.4;;;;;',\n",
       " '330075;0;;2023-03-01 10:20:00;15.0;2.0;;;;;;;;;;;;2023-03-01 11:20:20;;15.7;14.9;;;;;',\n",
       " '330075;0;;2023-03-01 10:40:00;14.2;1.9;;;;;;;;;;;;2023-03-01 11:20:20;;15.1;14.2;;;;;',\n",
       " '330075;0;;2023-03-01 11:00:00;14.3;1.6;;;;;;;;;;;;2023-03-01 11:20:20;;14.6;14.1;;;;;',\n",
       " '330075;0;;2023-03-01 11:20:00;14.2;1.7;;;;;;;;;;;;2023-03-01 12:50:17;;14.9;14.1;;;;;',\n",
       " '330075;0;;2023-03-01 11:40:00;15.5;1.9;;;;;;;;;;;;2023-03-01 12:50:17;;15.5;14.1;;;;;',\n",
       " '330075;0;;2023-03-01 12:00:00;17.4;2.5;;;;;;;;;;;;2023-03-01 12:50:17;;17.4;15.4;;;;;',\n",
       " '330075;0;;2023-03-01 12:20:00;19.6;2.5;;;;;;;;;;;;2023-03-01 13:20:17;;19.6;17.3;;;;;',\n",
       " '330075;0;;2023-03-01 12:40:00;22.1;2.8;;;;;;;;;;;;2023-03-01 13:20:17;;22.1;19.5;;;;;',\n",
       " '330075;0;;2023-03-01 13:00:00;24.0;6.3;;;;;;;;;;;;2023-03-01 13:20:17;;24.2;21.9;;;;;',\n",
       " '330075;0;;2023-03-01 13:20:00;24.7;6.7;;;;;;;;;;;;2023-03-01 14:20:20;;24.8;23.9;;;;;',\n",
       " '330075;0;;2023-03-01 13:40:00;25.9;6.7;;;;;;;;;;;;2023-03-01 14:20:20;;26.2;24.8;;;;;',\n",
       " '330075;0;;2023-03-01 14:00:00;26.9;7.4;;;;;;;;;;;;2023-03-01 14:20:20;;27.0;25.7;;;;;',\n",
       " '330075;0;;2023-03-01 14:20:00;27.3;6.9;;;;;;;;;;;;2023-03-01 15:20:17;;27.8;26.5;;;;;',\n",
       " '330075;0;;2023-03-01 14:40:00;28.2;7.6;;;;;;;;;;;;2023-03-01 15:20:17;;28.2;27.2;;;;;',\n",
       " '330075;0;;2023-03-01 15:00:00;28.9;7.8;;;;;;;;;;;;2023-03-01 15:20:17;;29.0;28.1;;;;;',\n",
       " '330075;0;;2023-03-01 15:20:00;29.3;7.7;;;;;;;;;;;;2023-03-01 16:20:16;;30.0;28.6;;;;;',\n",
       " '330075;0;;2023-03-01 15:40:00;29.9;7.8;;;;;;;;;;;;2023-03-01 16:20:16;;29.9;29.1;;;;;',\n",
       " '330075;0;;2023-03-01 16:00:00;29.5;7.7;;;;;;;;;;;;2023-03-01 16:20:16;;30.2;29.1;;;;;',\n",
       " '330075;0;;2023-03-01 16:20:00;30.4;8.5;;;;;;;;;;;;2023-03-01 17:20:18;;30.9;29.5;;;;;',\n",
       " '330075;0;;2023-03-01 16:40:00;30.5;8.0;;;;;;;;;;;;2023-03-01 17:20:18;;31.6;30.2;;;;;',\n",
       " '330075;0;;2023-03-01 17:00:00;31.7;8.3;;;;;;;;;;;;2023-03-01 17:20:18;;32.2;30.5;;;;;',\n",
       " '330075;0;;2023-03-01 17:20:00;31.9;7.4;;;;;;;;;;;;2023-03-01 18:20:19;;32.3;31.4;;;;;',\n",
       " '330075;0;;2023-03-01 17:40:00;32.2;8.0;;;;;;;;;;;;2023-03-01 18:20:19;;32.9;31.8;;;;;',\n",
       " '330075;0;;2023-03-01 18:00:00;32.4;7.1;;;;;;;;;;;;2023-03-01 18:20:19;;32.9;31.7;;;;;',\n",
       " '330075;0;;2023-03-01 18:20:00;32.3;7.8;;;;;;;;;;;;2023-03-01 19:45:02;;32.7;31.5;;;;;',\n",
       " '330075;0;;2023-03-01 18:40:00;32.9;7.7;;;;;;;;;;;;2023-03-01 19:45:02;;32.9;32.0;;;;;',\n",
       " '330075;0;;2023-03-01 19:00:00;32.6;7.1;;;;;;;;;;;;2023-03-01 19:45:02;;33.2;32.3;;;;;',\n",
       " '330075;0;;2023-03-01 19:20:00;32.5;6.3;;;;;;;;;;;;2023-03-01 20:45:02;;33.0;32.2;;;;;',\n",
       " '330075;0;;2023-03-01 19:40:00;32.8;6.6;;;;;;;;;;;;2023-03-01 20:45:02;;32.8;32.2;;;;;',\n",
       " '330075;0;;2023-03-01 20:00:00;32.5;4.9;;;;;;;;;;;;2023-03-01 20:45:02;;32.9;32.2;;;;;',\n",
       " '330075;0;;2023-03-01 20:20:00;32.6;4.5;;;;;;;;;;;;2023-03-01 21:20:22;;33.1;32.4;;;;;',\n",
       " '330075;0;;2023-03-01 20:40:00;31.0;4.2;;;;;;;;;;;;2023-03-01 21:20:22;;33.1;31.0;;;;;',\n",
       " '330075;0;;2023-03-01 21:00:00;30.3;5.8;;;;;;;;;;;;2023-03-01 21:20:22;;31.2;30.3;;;;;',\n",
       " '330075;0;;2023-03-01 21:20:00;29.4;9.4;;;;;;;;;;;;2023-03-01 22:20:23;;30.7;29.4;;;;;',\n",
       " '330075;0;;2023-03-01 21:40:00;28.9;8.9;;;;;;;;;;;;2023-03-01 22:20:23;;29.5;28.8;;;;;',\n",
       " '330075;0;;2023-03-01 22:00:00;28.1;7.1;;;;;;;;;;;;2023-03-01 22:20:23;;28.9;28.1;;;;;',\n",
       " '330075;0;;2023-03-01 22:20:00;27.5;6.0;;;;;;;;;;;;2023-03-01 23:20:18;;28.2;27.5;;;;;',\n",
       " '330075;0;;2023-03-01 22:40:00;26.9;7.6;;;;;;;;;;;;2023-03-01 23:20:18;;27.8;26.9;;;;;',\n",
       " '330075;0;;2023-03-01 23:00:00;25.9;8.0;;;;;;;;;;;;2023-03-01 23:20:18;;27.1;25.9;;;;;',\n",
       " '330075;0;;2023-03-01 23:20:00;24.8;8.0;;;;;;;;;;;;2023-03-02 00:20:13;;26.0;24.8;;;;;',\n",
       " '330075;0;;2023-03-01 23:40:00;22.5;6.9;;;;;;;;;;;;2023-03-02 00:20:13;;24.9;22.4;;;;;']"
      ]
     },
     "execution_count": 14,
     "metadata": {},
     "output_type": "execute_result"
    }
   ],
   "source": [
    "filtrar_dia(mis_datos, '2023-03-01')\n"
   ]
  },
  {
   "cell_type": "code",
   "execution_count": 31,
   "id": "87933561",
   "metadata": {},
   "outputs": [],
   "source": [
    "def estadisticas_dia(datos, dia):\n",
    "    # datos: una lista con datos leidos desde la base de datos meteorológicos,\n",
    "    #        mediante la función 'leer_archivo()'\n",
    "    # dia:   el día que se desea reportar, en formato 'AAAA-MM-DD', ejemplo: '2023-03-01'\n",
    "    # retorna: tmax, tmin, tmedia, la temperatura máxima, mínima y promedio para el día.\n",
    "\n",
    "    tmax = tmin = tmedia = 0\n",
    "    # TODO: Escriba su código aquí:\n",
    "    # ---------------------------------------------\n",
    "    cabecera_ts = []\n",
    "    cabecera_ts = filtrar_dia(datos,dia)\n",
    "    datos_f1 = filtrar_cabecera(cabecera_ts, 'ts')\n",
    "    datos_f1 = datos_f1.copy(datos[1:])\n",
    "    tmax = \n",
    "\n",
    "    # ---------------------------------------------\n",
    "    # Su código termina aquí, luego se retornan los datos calculados\n",
    "    \n",
    "    return tmax, tmin, tmedia\n",
    "    \n",
    "    "
   ]
  },
  {
   "cell_type": "code",
   "execution_count": null,
   "id": "a792d70f",
   "metadata": {},
   "outputs": [],
   "source": [
    "tmax = tmin = tmedia = 0\n",
    "tmax, tmin, tmedia\n"
   ]
  },
  {
   "cell_type": "code",
   "execution_count": 30,
   "id": "4600e311",
   "metadata": {},
   "outputs": [
    {
     "data": {
      "text/plain": [
       "['ts',\n",
       " 23.9,\n",
       " 22.5,\n",
       " 21.1,\n",
       " 20.5,\n",
       " 19.9,\n",
       " 19.3,\n",
       " 19.4,\n",
       " 18.6,\n",
       " 18.2,\n",
       " 17.9,\n",
       " 17.6,\n",
       " 17.4,\n",
       " 17.1,\n",
       " 16.8,\n",
       " 16.8,\n",
       " 16.4,\n",
       " 16.1,\n",
       " 15.7,\n",
       " 15.4,\n",
       " 15.6,\n",
       " 15.1,\n",
       " 15.4,\n",
       " 15.3,\n",
       " 15.1,\n",
       " 14.8,\n",
       " 15.1,\n",
       " 14.9,\n",
       " 15.1,\n",
       " 15.1,\n",
       " 15.7,\n",
       " 15.6,\n",
       " 15.0,\n",
       " 14.2,\n",
       " 14.3,\n",
       " 14.2,\n",
       " 15.5,\n",
       " 17.4,\n",
       " 19.6,\n",
       " 22.1,\n",
       " 24.0,\n",
       " 24.7,\n",
       " 25.9,\n",
       " 26.9,\n",
       " 27.3,\n",
       " 28.2,\n",
       " 28.9,\n",
       " 29.3,\n",
       " 29.9,\n",
       " 29.5,\n",
       " 30.4,\n",
       " 30.5,\n",
       " 31.7,\n",
       " 31.9,\n",
       " 32.2,\n",
       " 32.4,\n",
       " 32.3,\n",
       " 32.9,\n",
       " 32.6,\n",
       " 32.5,\n",
       " 32.8,\n",
       " 32.5,\n",
       " 32.6,\n",
       " 31.0,\n",
       " 30.3,\n",
       " 29.4,\n",
       " 28.9,\n",
       " 28.1,\n",
       " 27.5,\n",
       " 26.9,\n",
       " 25.9,\n",
       " 24.8,\n",
       " 22.5]"
      ]
     },
     "execution_count": 30,
     "metadata": {},
     "output_type": "execute_result"
    }
   ],
   "source": [
    "estadisticas_dia(mis_datos, '2023-03-01')"
   ]
  },
  {
   "cell_type": "code",
   "execution_count": null,
   "id": "d4154b2d",
   "metadata": {},
   "outputs": [],
   "source": [
    "# Una vez creada una librería, se puede importar como módulo de Python con 'import'\n",
    "import meteodatos"
   ]
  },
  {
   "cell_type": "code",
   "execution_count": null,
   "id": "71b62f3d",
   "metadata": {},
   "outputs": [],
   "source": []
  },
  {
   "cell_type": "markdown",
   "id": "5eb6db99",
   "metadata": {},
   "source": [
    "## ACTIVIDAD:\n",
    "\n",
    "Completar las funciones ```filtrar_dia()``` y ```estadisticas_dia()``` e incluirlas en la librería **meteodatos.py**.\n",
    "\n",
    "La función ```filtrar_dia()```recibe el conjunto de datos para un mes y, de ese conjunto de datos, retorna sólo aquellos datos que corresponden a un día en específico, conservando la fila de cabecera.\n",
    "\n",
    "La función ```estadisticas_dia()``` recibe el conjunto de datos para un mes, los filtra respecto de un día en específico, toma los datos bajo la cabecera de temperatura de superficie ```'ts'``` y, con ese conjunto de datos, calcula las estadísticas diarias de temperatura mínima, máxima y promedio. \n",
    "\n",
    "1. Complete la función ```filtrar_dia()```, siguiendo los siguientes pasos:\n",
    "- Cree una copia de la lista recibida en el parámetro ```datos``` y almacénela en una nueva variable con otro nombre.\n",
    "- Para cada fila de esta nueva variable, verifique si el texto recibido en el parámetro ```dia``` está contenido en esa fila. Si la fila corresponde a ```dia```, se debe conservar, en caso contrario la fila debe ser eliminada. El conjunto de datos resultante de este procedimiento corresponderá a los datos filtrados para ```dia```.\n",
    "- Asegúrese de incluir la fila de cabecera en el conjunto de datos filtrados y envíelo como retorno.\n",
    "\n",
    "2. Para construir la función ```estadisticas_dia()```, proceda de la siguiente forma:\n",
    "- Utilice las funciones ```filtrar_dia()``` y ```filtrar_cabecera()``` para crear una nueva lista que contenga únicamente los datos para el día especificado en el parámetro ```dia```, y que estén bajo la cabecera ```'ts'```.\n",
    "- Calcule los valores máximo, mínimo y promedio para la lista de datos filtrados.\n",
    "- Redonde el valor de promedio a 1 dígito decimal.\n",
    "- Retorne los valores calculados.\n",
    "\n",
    "3. Actualice la definición de las funciones ```filtrar_dia()``` y ```estadisticas_dia()``` en el archivo ***meteodatos.py***\n",
    "\n",
    "Para verificar que sus resultados son correctos reinicie el kernel de este cuaderno de Júpiter y ejecute el código que se entrega a continuación.\n",
    "\n",
    "**NOTA**: Recuerde que el archivo de datos **330075_202303_Temperatura.csv** y la librería **meteodatos.py** deben estar alojadas en la misma carpeta que este cuaderno de Jupyter.\n",
    "\n",
    "**NOTA 2**: Cada vez que haga cambios en el archivo **meteodatos.py** debe reiniciar el kernel de este cuaderno para actualizar los cambios en la importación de librería.\n"
   ]
  },
  {
   "cell_type": "code",
   "execution_count": 6,
   "id": "424f4757",
   "metadata": {},
   "outputs": [
    {
     "name": "stdout",
     "output_type": "stream",
     "text": [
      "El archivo fue leido correctamente: 330075_202303_Temperatura.csv\n",
      "Las estadísticas para el día 2023-03-31 son:\n",
      "temperatura máxima: 0 °C\n",
      "temperatura mínima: 0 °C\n",
      "temperatura promedio: 0 °C\n"
     ]
    }
   ],
   "source": [
    "# *** NO MODIFIQUE ESTA CELDA ***\n",
    "\n",
    "# importamos la librería requerida, utilizando un nombre corto\n",
    "import meteodatos as mtd\n",
    "\n",
    "# leemos el archivo de datos\n",
    "archivo = '330075_202303_Temperatura.csv'\n",
    "datos = mtd.leer_archivo(archivo)\n",
    "\n",
    "# seleccionamos el día requerido y obtenemos sus estadísticas de temperatura\n",
    "dia = '2023-03-31'\n",
    "tmax, tmin, tmedia = mtd.estadisticas_dia(datos, dia)\n",
    "\n",
    "# presentamos los resultados\n",
    "print(f'Las estadísticas para el día {dia} son:')\n",
    "print(f'temperatura máxima: {tmax} °C')\n",
    "print(f'temperatura mínima: {tmin} °C')\n",
    "print(f'temperatura promedio: {tmedia} °C')"
   ]
  },
  {
   "cell_type": "markdown",
   "id": "3faf048a",
   "metadata": {},
   "source": [
    "El resultado esperado es:\n",
    "```\n",
    "El archivo fue leido correctamente: 330075_202303_Temperatura.csv\n",
    "Las estadísticas para el día 2023-03-31 son:\n",
    "temperatura máxima: 33.8 °C\n",
    "temperatura mínima: 10.4 °C\n",
    "temperatura promedio: 21.1 °C\n",
    "```"
   ]
  },
  {
   "cell_type": "code",
   "execution_count": null,
   "id": "46ef0163",
   "metadata": {},
   "outputs": [],
   "source": []
  }
 ],
 "metadata": {
  "kernelspec": {
   "display_name": "Python 3 (ipykernel)",
   "language": "python",
   "name": "python3"
  },
  "language_info": {
   "codemirror_mode": {
    "name": "ipython",
    "version": 3
   },
   "file_extension": ".py",
   "mimetype": "text/x-python",
   "name": "python",
   "nbconvert_exporter": "python",
   "pygments_lexer": "ipython3",
   "version": "3.10.0"
  }
 },
 "nbformat": 4,
 "nbformat_minor": 5
}
