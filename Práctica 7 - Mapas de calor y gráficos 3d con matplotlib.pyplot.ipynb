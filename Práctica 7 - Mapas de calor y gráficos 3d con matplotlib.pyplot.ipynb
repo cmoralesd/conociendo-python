{
 "cells": [
  {
   "cell_type": "markdown",
   "id": "91d4297d",
   "metadata": {},
   "source": [
    "# Práctica 7 - Gráficos 3D con matplotlib.pyplot\n",
    "Autor: Claudio Morales D.<br>\n",
    "https://github.com/cmoralesd/conociendo-python <br>\n",
    "Otoño 2023<br>\n",
    "<br>\n",
    "Para profundizar en las opciones de gráficos 3D, consulte la documentación oficial, disponible en https://matplotlib.org/stable/gallery/mplot3d/index.html\n",
    "\n",
    "Los archivos de datos en formato **csv** utilizados en esta actividad se obtuvieron desde: https://climatologia.meteochile.gob.cl/application/index/menuTematicoEmas\n",
    "\n"
   ]
  },
  {
   "cell_type": "markdown",
   "id": "c09146b2",
   "metadata": {},
   "source": [
    "## 1. Pasando de gráficas 2D a mapas de calor (heat maps)\n",
    "\n",
    "Los mapas de calor corresponden a una forma gráfica muy útil para representar relaciones entre variables, utilizando un gráfico 2D. El punto de partida para esto es representar los datos en forma de matriz.\n"
   ]
  },
  {
   "cell_type": "code",
   "execution_count": null,
   "id": "94cf3dbb",
   "metadata": {},
   "outputs": [],
   "source": [
    "# importamos las librerías requeridas\n",
    "import matplotlib.pyplot as plt   # para construir los gráficos\n",
    "import meteodatos as mtd   # para obtener los datos a graficar\n",
    "from matplotlib import cm  # para trabajar con mapas de colores (colormaps)\n",
    "\n",
    "# cargamos los datos a graficar\n",
    "datos = mtd.leer_archivo('330075_202304_Temperatura.csv')"
   ]
  },
  {
   "cell_type": "code",
   "execution_count": null,
   "id": "b3d97ed4",
   "metadata": {
    "scrolled": true
   },
   "outputs": [],
   "source": [
    "# comencemos recogiendo los datos a graficar en un arreglo matricial\n",
    "tmax_mes = []\n",
    "for d in range(3, 31, 7):\n",
    "    semana = []\n",
    "    for i in range(7):\n",
    "        n = d + i\n",
    "        dia = '2023-04-'+('0'+str(n) if n<10 else str(n))\n",
    "        tmax_dia = max(mtd.filtrar_cabecera(mtd.filtrar_dia(datos, dia), 'ts')[1:])\n",
    "        semana.append(tmax_dia)\n",
    "    tmax_mes.append(semana)\n",
    "    \n",
    "tmax_mes"
   ]
  },
  {
   "cell_type": "code",
   "execution_count": null,
   "id": "bba45567",
   "metadata": {},
   "outputs": [],
   "source": [
    "mtd.filtrar_cabecera(mtd.filtrar_dia(datos,'2023-04-16'), 'ts')[1:]"
   ]
  },
  {
   "cell_type": "code",
   "execution_count": null,
   "id": "6a466acf",
   "metadata": {},
   "outputs": [],
   "source": [
    "# grafiquemos en 2D\n",
    "ax = plt.figure().add_subplot()\n",
    "ax.plot(tmax_mes[0],'o--',label='semana 1')\n",
    "ax.plot(tmax_mes[1],'o--',label='semana 2')\n",
    "ax.plot(tmax_mes[2],'o--',label='semana 3')\n",
    "ax.plot(tmax_mes[3],'o--',label='semana 4')\n",
    "ax.set_xticks([0,1,2,3,4,5,6],['Lu','Ma','Mi','Ju','Vi','Sa','Do'])\n",
    "ax.set_ylabel('ts ,áxima °C')\n",
    "ax.legend()\n",
    "plt.show()"
   ]
  },
  {
   "cell_type": "code",
   "execution_count": null,
   "id": "ba4d2894",
   "metadata": {},
   "outputs": [],
   "source": [
    "# interpretando la matriz como un mapa de calor\n",
    "ax = plt.figure().add_subplot()\n",
    "a=ax.imshow(tmax_mes,cmap = cm.coolwarm)\n",
    "ax.set_xticks([0,1,2,3,4,5,6],['Lu','Ma','Mi','Ju','Vi','Sa','Do'])\n",
    "ax.set_yticks([0,1,2,3],['semana 1','semana 2','semana 3','semana 4'])\n",
    "plt.colorbar(a)\n",
    "plt.show()"
   ]
  },
  {
   "cell_type": "code",
   "execution_count": null,
   "id": "2fd6649f",
   "metadata": {},
   "outputs": [],
   "source": [
    "# ahora lo llevamos a un sistema de ejes 3D\n",
    "ax = plt.figure().add_subplot(projection='3d')\n",
    "\n",
    "x = [0,1,2,3,4,5,6] #Dias de la semana\n",
    "\n",
    "ax.plot(x,tmax_mes[0],zs=0, zdir = 'y',label='semana 1')\n",
    "ax.plot(x,tmax_mes[1],zs=1, zdir = 'y',label='semana 2')\n",
    "ax.plot(x,tmax_mes[2],zs=2, zdir = 'y',label='semana 3')\n",
    "ax.plot(x,tmax_mes[3],zs=3, zdir = 'y',label='semana 4')\n",
    "\n",
    "ax.set_xticks([0,1,2,3,4,5,6],['Lu','Ma','Mi','Ju','Vi','Sa','Do'])\n",
    "ax.set_yticks([0,1,2,3],['semana 1','semana 2','semana 3','semana 4'])\n",
    "ax.set_zlim(10,35)\n",
    "ax.legend()\n",
    "plt.show()"
   ]
  },
  {
   "cell_type": "markdown",
   "id": "79289a79",
   "metadata": {},
   "source": [
    "## 2. Explorando algunas opciones para gráficos 3D\n",
    "Un gráfico de superficie permite relacionar con facilidad dos variables. Si la serie de datos de cada variable puede asociarse fácilmente con un vector, la relación entre dos variables puede considerarse como una matriz de dos dimensiones. La información resultante es posible representarla ahora de distintas maneras: mapa de color, malla (mesh) o superficie."
   ]
  },
  {
   "cell_type": "code",
   "execution_count": null,
   "id": "0eaf2fc4",
   "metadata": {},
   "outputs": [],
   "source": [
    "# importamos la librería numpy, para trabajo con vectores y matrices numéricas\n",
    "import numpy as np\n"
   ]
  },
  {
   "cell_type": "code",
   "execution_count": null,
   "id": "47c3cbee",
   "metadata": {},
   "outputs": [],
   "source": [
    "# definimos los arreglos para los ejes\n",
    "x = [1, 2, 3, 4, 5, 6, 7]\n",
    "y = [1, 2, 3, 4]"
   ]
  },
  {
   "cell_type": "code",
   "execution_count": null,
   "id": "09e8c032",
   "metadata": {},
   "outputs": [],
   "source": [
    "# creamos un meshgrid con los datos de los ejes\n",
    "X , Y = np.meshgrid(x,y)\n",
    "Z = np.array(tmax_mes)\n",
    "type(X)"
   ]
  },
  {
   "cell_type": "code",
   "execution_count": null,
   "id": "3fe33a16",
   "metadata": {},
   "outputs": [],
   "source": [
    "# y graficamos en 3D\n",
    "ax = plt.figure().add_subplot(projection ='3d')\n",
    "ax.plot_wireframe(X,Y,Z)\n",
    "\n",
    "ax.set_xticks([1,2,3,4,5,6,7],['Lu','Ma','Mi','Ju','Vi','Sa','Do'])\n",
    "ax.set_yticks([1,2,3,4],['semana 1','semana 2','semana 3','semana 4'])\n",
    "ax.set_zlim(10,35)\n",
    "ax.view_init(elev=10 , azim=-20)\n",
    "ax.legend()\n",
    "plt.show()"
   ]
  },
  {
   "cell_type": "code",
   "execution_count": null,
   "id": "050d2f85",
   "metadata": {},
   "outputs": [],
   "source": [
    "# y graficamos en 3D\n",
    "ax = plt.figure().add_subplot(projection ='3d')\n",
    "ax.plot_surface(X,Y,Z, cmap=cm.coolwarm)\n",
    "\n",
    "ax.set_xticks([1,2,3,4,5,6,7],['Lu','Ma','Mi','Ju','Vi','Sa','Do'])\n",
    "ax.set_yticks([1,2,3,4],['semana 1','semana 2','semana 3','semana 4'])\n",
    "ax.set_zlim(10,35)\n",
    "ax.view_init(elev=35. , azim=-20)\n",
    "\n",
    "plt.show()"
   ]
  },
  {
   "cell_type": "code",
   "execution_count": null,
   "id": "ee5957df",
   "metadata": {},
   "outputs": [],
   "source": [
    "ax = plt.figure().add_subplot(projection ='3d')\n",
    "ax.contour(X,Y,Z)\n",
    "\n",
    "ax.set_xticks([1,2,3,4,5,6,7],['Lu','Ma','Mi','Ju','Vi','Sa','Do'])\n",
    "ax.set_yticks([1,2,3,4],['semana 1','semana 2','semana 3','semana 4'])\n",
    "ax.set_zlim(10,35)\n",
    "ax.view_init(elev=5 , azim=-20)\n",
    "\n",
    "plt.show()"
   ]
  },
  {
   "cell_type": "markdown",
   "id": "5eb6db99",
   "metadata": {},
   "source": [
    "## ACTIVIDAD:\n",
    "\n",
    "\n",
    "\n",
    "\n",
    "La variación de temperatura **'delta'**, para cada día, se calcula como **tmax - tmin**, donde **tmax** es la temperatura máxima registrada en el día y **tmin** es la temperatura mínima.\n",
    "\n",
    "Se tiene una serie de datos que ya han sido recogidos desde la base de datos de la estación meteorológica. La variación **delta** para cada día del mes ya se encuentra almacenado en una variable ```delta_mes```, con cuatro filas y siete columnas, que representan, respectivamente, las cuatro semanas completas del mes y los siete días de cada semana. Un gráfico de línea se ha construido como referencia.\n",
    "\n",
    "A partir de esta información, construir un mapa de color y un gráfico 3D para representar la variación de temperatura **'delta'**, a partir de los datos disponibles. Proceda de la siguiente manera:\n",
    "\n",
    "1. Construya un **mapa de calor** (heatmap) utilizando **imshow** para los valores de ```delta_mes```. Incluya etiquetas descriptivas en los ejes. Agregue una barra de color (**colorbar**), ajustando sus opciones para mejorar la visualización del gráfico (revise este enlace para una documentación detallada de las opciones de colorbar: https://matplotlib.org/stable/api/figure_api.html#matplotlib.figure.Figure.colorbar)\n",
    "2. Construya un gráfico 3D para representar la misma información del mapa de calor. Defina el eje-x para representar los días de la semana y el eje-y para representar las semanas del mes. Transforme los valores de los ejes en elementos matriciales mediante la función **meshgrid** de **numpy** y utilícelos para crear en el tipo de gráfico 3D que considere más adecuado para representar la información. Recuerde incluir las etiquetas correctas en los ejes. Mejore la orientación de la vista (elevación, ángulo azimutal) y otras opciones de gráfico para conseguir la mejor visualización.\n",
    "\n",
    "**NOTA**: Recuerde que el archivo de datos **330075_202304_Temperatura.csv** y la librería **meteodatos.py** deben estar alojadas en la misma carpeta que este cuaderno de Jupyter.\n"
   ]
  },
  {
   "cell_type": "code",
   "execution_count": null,
   "id": "46ef0163",
   "metadata": {},
   "outputs": [],
   "source": [
    "# comencemos recogiendo los datos a graficar en un arreglo matricial\n",
    "tmax_mes = []\n",
    "tmin_mes = []\n",
    "delta_mes = []\n",
    "for d in range(3, 31, 7):\n",
    "    tmax_semana = []\n",
    "    tmin_semana = []\n",
    "    delta_semana = []\n",
    "    for i in range(7):\n",
    "        n = d + i\n",
    "        dia = '2023-04-'+('0'+str(n) if n<10 else str(n))\n",
    "        tmax_dia = max(mtd.filtrar_cabecera(mtd.filtrar_dia(datos, dia), 'ts')[1:])\n",
    "        tmin_dia = min(mtd.filtrar_cabecera(mtd.filtrar_dia(datos, dia), 'ts')[1:])\n",
    "        tmax_semana.append(tmax_dia)\n",
    "        tmin_semana.append(tmin_dia)\n",
    "        delta_semana.append(round(tmax_dia - tmin_dia, 1))\n",
    "    tmax_mes.append(tmax_semana)\n",
    "    tmin_mes.append(tmin_semana)\n",
    "    delta_mes.append(delta_semana)\n",
    "    \n",
    "delta_mes"
   ]
  },
  {
   "cell_type": "code",
   "execution_count": null,
   "id": "09bd2456",
   "metadata": {},
   "outputs": [],
   "source": [
    "# grafiquemos en 2D\n",
    "ax = plt.figure().add_subplot()\n",
    "ax.plot(delta_mes[0], '*--', label='semana 1')\n",
    "ax.plot(delta_mes[1], '*--', label='semana 2')\n",
    "ax.plot(delta_mes[2], '*--', label='semana 3')\n",
    "ax.plot(delta_mes[3], '*--', label='semana 4')\n",
    "\n",
    "ax.set_xticks([0, 1, 2, 3, 4, 5, 6], ['Lu', 'Ma', 'Mi', 'Ju', 'Vi', 'Sa', 'Do'] )\n",
    "ax.legend()\n",
    "plt.show()"
   ]
  },
  {
   "cell_type": "code",
   "execution_count": 1,
   "id": "74387b05",
   "metadata": {},
   "outputs": [
    {
     "name": "stdout",
     "output_type": "stream",
     "text": [
      "El archivo fue leido correctamente: 330075_202304_Temperatura.csv\n"
     ]
    },
    {
     "data": {
      "image/png": "[encoded data removed]",
      "text/plain": [
       "<Figure size 432x288 with 2 Axes>"
      ]
     },
     "metadata": {
      "needs_background": "light"
     },
     "output_type": "display_data"
    }
   ],
   "source": [
    "# ESCRIBA AQUÍ SU CÓDIGO\n",
    "import numpy as np\n",
    "import matplotlib.pyplot as plt   # para construir los gráficos\n",
    "import meteodatos as mtd   # para obtener los datos a graficar\n",
    "from matplotlib import cm  # para trabajar con mapas de colores (colormaps)\n",
    "datos = mtd.leer_archivo('330075_202304_Temperatura.csv')\n",
    "# comencemos recogiendo los datos a graficar en un arreglo matricial\n",
    "tmax_mes = []\n",
    "tmin_mes = []\n",
    "delta_mes = []\n",
    "for d in range(3, 31, 7):\n",
    "    tmax_semana = []\n",
    "    tmin_semana = []\n",
    "    delta_semana = []\n",
    "    for i in range(7):\n",
    "        n = d + i\n",
    "        dia = '2023-04-'+('0'+str(n) if n<10 else str(n))\n",
    "        tmax_dia = max(mtd.filtrar_cabecera(mtd.filtrar_dia(datos, dia), 'ts')[1:])\n",
    "        tmin_dia = min(mtd.filtrar_cabecera(mtd.filtrar_dia(datos, dia), 'ts')[1:])\n",
    "        tmax_semana.append(tmax_dia)\n",
    "        tmin_semana.append(tmin_dia)\n",
    "        delta_semana.append(round(tmax_dia - tmin_dia, 1))\n",
    "    tmax_mes.append(tmax_semana)\n",
    "    tmin_mes.append(tmin_semana)\n",
    "    delta_mes.append(delta_semana)\n",
    "\n",
    "ax = plt.figure().add_subplot()\n",
    "a=ax.imshow(delta_mes,cmap = cm.coolwarm, vmin=4, vmax=22)\n",
    "ax.set_xticks([0,1,2,3,4,5,6],['Lu','Ma','Mi','Ju','Vi','Sa','Do'])\n",
    "ax.set_yticks([0,1,2,3],['Semana 1','Semana 2','Semana 3','Semana 4'])\n",
    "ax.set_xlabel('Dia de la semana del mes')\n",
    "ax.set_ylabel('Numero de semana del mes')\n",
    "ax.set_title('Gráfico de calor de Delta de Abril')\n",
    "\n",
    "\n",
    "b=plt.colorbar(a, ticks=np.arange(4, 23))\n",
    "b.set_label('Registro de temperatura en °C con colores')\n",
    "plt.show()\n",
    "\n"
   ]
  },
  {
   "cell_type": "code",
   "execution_count": 2,
   "id": "d66f8f04",
   "metadata": {},
   "outputs": [
    {
     "name": "stdout",
     "output_type": "stream",
     "text": [
      "El archivo fue leido correctamente: 330075_202304_Temperatura.csv\n"
     ]
    },
    {
     "data": {
      "image/png": "[encoded data removed]",
      "text/plain": [
       "<Figure size 432x288 with 1 Axes>"
      ]
     },
     "metadata": {
      "needs_background": "light"
     },
     "output_type": "display_data"
    }
   ],
   "source": [
    "import numpy as np\n",
    "import matplotlib.pyplot as plt   # para construir los gráficos\n",
    "import meteodatos as mtd   # para obtener los datos a graficar\n",
    "from matplotlib import cm  # para trabajar con mapas de colores (colormaps)\n",
    "datos = mtd.leer_archivo('330075_202304_Temperatura.csv')\n",
    "# comencemos recogiendo los datos a graficar en un arreglo matricial\n",
    "tmax_mes = []\n",
    "tmin_mes = []\n",
    "delta_mes = []\n",
    "for d in range(3, 31, 7):\n",
    "    tmax_semana = []\n",
    "    tmin_semana = []\n",
    "    delta_semana = []\n",
    "    for i in range(7):\n",
    "        n = d + i\n",
    "        dia = '2023-04-'+('0'+str(n) if n<10 else str(n))\n",
    "        tmax_dia = max(mtd.filtrar_cabecera(mtd.filtrar_dia(datos, dia), 'ts')[1:])\n",
    "        tmin_dia = min(mtd.filtrar_cabecera(mtd.filtrar_dia(datos, dia), 'ts')[1:])\n",
    "        tmax_semana.append(tmax_dia)\n",
    "        tmin_semana.append(tmin_dia)\n",
    "        delta_semana.append(round(tmax_dia - tmin_dia, 1))\n",
    "    tmax_mes.append(tmax_semana)\n",
    "    tmin_mes.append(tmin_semana)\n",
    "    delta_mes.append(delta_semana)\n",
    "\n",
    "# definimos los arreglos para los ejes\n",
    "x = [0, 1, 2, 3, 4, 5, 6]\n",
    "y = [0, 1, 2, 3]\n",
    "\n",
    "X, Y = np.meshgrid(x, y)\n",
    "\n",
    "Z = np.array(delta_mes)\n",
    "\n",
    "ax = plt.figure().add_subplot(projection='3d')\n",
    "ax.plot_surface(X, Y, Z, cmap=cm.coolwarm)\n",
    "\n",
    "ax.set_xticks([0, 1, 2, 3, 4, 5, 6], ['Lu', 'Ma', 'Mi', 'Ju', 'Vi', 'Sa', 'Do'] )\n",
    "ax.set_yticks([0, 1, 2, 3], ['Semana 1', 'Semana 2', 'Semana 3', 'Semana 4'] )\n",
    "ax.set_zlabel('temperatura en °C')\n",
    "ax.set_title('Gráfico calor Delta de Abril en 3D')\n",
    "ax.set_xlabel('Dia de la semana del mes')\n",
    "ax.set_ylabel('Numero de semana del mes')\n",
    "ax.set_zlim(0,25)\n",
    "ax.view_init(elev=35., azim=-15)\n",
    "plt.show()"
   ]
  },
  {
   "cell_type": "code",
   "execution_count": null,
   "id": "c16262fc",
   "metadata": {},
   "outputs": [],
   "source": []
  }
 ],
 "metadata": {
  "kernelspec": {
   "display_name": "Python 3 (ipykernel)",
   "language": "python",
   "name": "python3"
  },
  "language_info": {
   "codemirror_mode": {
    "name": "ipython",
    "version": 3
   },
   "file_extension": ".py",
   "mimetype": "text/x-python",
   "name": "python",
   "nbconvert_exporter": "python",
   "pygments_lexer": "ipython3",
   "version": "3.9.12"
  }
 },
 "nbformat": 4,
 "nbformat_minor": 5
}
